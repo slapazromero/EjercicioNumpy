{
  "nbformat": 4,
  "nbformat_minor": 0,
  "metadata": {
    "colab": {
      "provenance": [],
      "collapsed_sections": [],
      "authorship_tag": "ABX9TyPTKk2unVyc/WPgefLOvhLT",
      "include_colab_link": true
    },
    "kernelspec": {
      "name": "python3",
      "display_name": "Python 3"
    },
    "language_info": {
      "name": "python"
    }
  },
  "cells": [
    {
      "cell_type": "markdown",
      "metadata": {
        "id": "view-in-github",
        "colab_type": "text"
      },
      "source": [
        "<a href=\"https://colab.research.google.com/github/slapazromero/EjercicioNumpy/blob/main/Ejercicio_Numpy.ipynb\" target=\"_parent\"><img src=\"https://colab.research.google.com/assets/colab-badge.svg\" alt=\"Open In Colab\"/></a>"
      ]
    },
    {
      "cell_type": "code",
      "source": [
        "import numpy as np\n",
        "from PIL import Image\n",
        "from random import randint"
      ],
      "metadata": {
        "id": "lWIVEBCIlCq2"
      },
      "execution_count": 2,
      "outputs": []
    },
    {
      "cell_type": "code",
      "execution_count": 34,
      "metadata": {
        "id": "UoHqto6hBJxk"
      },
      "outputs": [],
      "source": [
        "class ImagenNumPy:\n",
        "\n",
        "  @staticmethod\n",
        "  def crear_imagen(alto = 100, ancho = 100, color = [0, 0, 0], pintar = True):\n",
        "    data = np.zeros((alto, ancho, len(color)), dtype = np.uint8)\n",
        "    data[0:alto, 0:ancho] = color\n",
        "    if pintar:\n",
        "      return Image.fromarray(data)\n",
        "    else:\n",
        "      return data\n",
        "\n",
        "  @staticmethod\n",
        "  def crear_collab(elementos_h = 5, elementos_v = 3, alto = 100, ancho = 100, pintar = True):\n",
        "    for y in range(elementos_v):\n",
        "      fila = ImagenNumPy.crear_imagen(alto, ancho, (randint(0, 255), randint(0, 255), randint(0, 255)), False)\n",
        "\n",
        "      for x in range(elementos_h - 1):\n",
        "        fila = np.hstack([fila, ImagenNumPy.crear_imagen(alto, ancho, (randint(0, 255), randint(0, 255), randint(0, 255)), False)])\n",
        "      \n",
        "      if 'data' in locals() :\n",
        "        data = np.vstack([data, fila])\n",
        "      else:\n",
        "        data = np.vstack([fila,])\n",
        "\n",
        "    if pintar:\n",
        "      return Image.fromarray(data)\n",
        "    else:\n",
        "      return data\n",
        "\n",
        "  @staticmethod\n",
        "  def redimensionar_imagen(data, ancho, alto, pintar = True):\n",
        "    img = Image.fromarray(data)\n",
        "    img = img.resize((ancho, alto))\n",
        "    if pintar:\n",
        "      return img\n",
        "    else:\n",
        "      return np.asarray(img)\n",
        "\n",
        "  @staticmethod\n",
        "  def redimensionar_imagen_ancho(data, ancho, pintar = True):\n",
        "    img = Image.fromarray(data)\n",
        "    img = img.\n",
        "    if pintar:\n",
        "      return img\n",
        "    else:\n",
        "      return np.asarray(img)\n",
        "\n",
        "  @staticmethod\n",
        "  def redimensionar_imagen_alto(data, alto, pintar = True):\n",
        "    img = Image.fromarray(data)\n",
        "    img = img\n",
        "    if pintar:\n",
        "      return img\n",
        "    else:\n",
        "      return np.asarray(img)\n",
        "\n",
        "  @staticmethod\n",
        "  def recortar_trozo(data, coor_x, coor_y, ancho, alto):\n",
        "    pass\n"
      ]
    },
    {
      "cell_type": "code",
      "source": [
        "ImagenNumPy.crear_imagen(200, 100, [145, 255, 0])"
      ],
      "metadata": {
        "id": "e5Y-1bKAxRBR"
      },
      "execution_count": null,
      "outputs": []
    },
    {
      "cell_type": "code",
      "source": [
        "ImagenNumPy.crear_collab(8, 3, 200, 100)"
      ],
      "metadata": {
        "id": "eWX3wOj3yFCo"
      },
      "execution_count": null,
      "outputs": []
    },
    {
      "cell_type": "code",
      "source": [
        "imagen = ImagenNumPy.crear_imagen(pintar=False)\n",
        "\n",
        "ImagenNumPy.redimensionar_imagen(imagen, 150, 300)\n"
      ],
      "metadata": {
        "id": "jE6oWkKSwSIi"
      },
      "execution_count": null,
      "outputs": []
    },
    {
      "cell_type": "code",
      "source": [
        "ImagenNumPy.redimensionar_imagen_ancho(imagen, 150)"
      ],
      "metadata": {
        "colab": {
          "base_uri": "https://localhost:8080/",
          "height": 287
        },
        "id": "mc7jNlGCwST5",
        "outputId": "a6dbdd11-7357-4b71-e74f-b283574c8926"
      },
      "execution_count": 35,
      "outputs": [
        {
          "output_type": "error",
          "ename": "TypeError",
          "evalue": "ignored",
          "traceback": [
            "\u001b[0;31m---------------------------------------------------------------------------\u001b[0m",
            "\u001b[0;31mTypeError\u001b[0m                                 Traceback (most recent call last)",
            "\u001b[0;32m<ipython-input-35-e697626c3a99>\u001b[0m in \u001b[0;36m<module>\u001b[0;34m\u001b[0m\n\u001b[0;32m----> 1\u001b[0;31m \u001b[0mImagenNumPy\u001b[0m\u001b[0;34m.\u001b[0m\u001b[0mredimensionar_imagen_ancho\u001b[0m\u001b[0;34m(\u001b[0m\u001b[0mimagen\u001b[0m\u001b[0;34m,\u001b[0m \u001b[0;36m150\u001b[0m\u001b[0;34m)\u001b[0m\u001b[0;34m\u001b[0m\u001b[0;34m\u001b[0m\u001b[0m\n\u001b[0m",
            "\u001b[0;32m<ipython-input-34-113f761e2b6d>\u001b[0m in \u001b[0;36mredimensionar_imagen_ancho\u001b[0;34m(data, ancho, pintar)\u001b[0m\n\u001b[1;32m     40\u001b[0m   \u001b[0;32mdef\u001b[0m \u001b[0mredimensionar_imagen_ancho\u001b[0m\u001b[0;34m(\u001b[0m\u001b[0mdata\u001b[0m\u001b[0;34m,\u001b[0m \u001b[0mancho\u001b[0m\u001b[0;34m,\u001b[0m \u001b[0mpintar\u001b[0m \u001b[0;34m=\u001b[0m \u001b[0;32mTrue\u001b[0m\u001b[0;34m)\u001b[0m\u001b[0;34m:\u001b[0m\u001b[0;34m\u001b[0m\u001b[0;34m\u001b[0m\u001b[0m\n\u001b[1;32m     41\u001b[0m     \u001b[0mimg\u001b[0m \u001b[0;34m=\u001b[0m \u001b[0mImage\u001b[0m\u001b[0;34m.\u001b[0m\u001b[0mfromarray\u001b[0m\u001b[0;34m(\u001b[0m\u001b[0mdata\u001b[0m\u001b[0;34m)\u001b[0m\u001b[0;34m\u001b[0m\u001b[0;34m\u001b[0m\u001b[0m\n\u001b[0;32m---> 42\u001b[0;31m     \u001b[0mimg\u001b[0m \u001b[0;34m=\u001b[0m \u001b[0mimg\u001b[0m\u001b[0;34m.\u001b[0m\u001b[0mwidth\u001b[0m\u001b[0;34m(\u001b[0m\u001b[0mancho\u001b[0m\u001b[0;34m)\u001b[0m\u001b[0;34m\u001b[0m\u001b[0;34m\u001b[0m\u001b[0m\n\u001b[0m\u001b[1;32m     43\u001b[0m     \u001b[0;32mif\u001b[0m \u001b[0mpintar\u001b[0m\u001b[0;34m:\u001b[0m\u001b[0;34m\u001b[0m\u001b[0;34m\u001b[0m\u001b[0m\n\u001b[1;32m     44\u001b[0m       \u001b[0;32mreturn\u001b[0m \u001b[0mimg\u001b[0m\u001b[0;34m\u001b[0m\u001b[0;34m\u001b[0m\u001b[0m\n",
            "\u001b[0;31mTypeError\u001b[0m: 'int' object is not callable"
          ]
        }
      ]
    },
    {
      "cell_type": "code",
      "source": [
        "ImagenNumPy.redimensionar_imagen_alto()"
      ],
      "metadata": {
        "id": "A61b6o2MwSaw"
      },
      "execution_count": null,
      "outputs": []
    },
    {
      "cell_type": "markdown",
      "source": [
        "# Nueva sección"
      ],
      "metadata": {
        "id": "SHZIT9Jcq4pE"
      }
    }
  ]
}