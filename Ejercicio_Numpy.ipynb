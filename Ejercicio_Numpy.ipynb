{
  "nbformat": 4,
  "nbformat_minor": 0,
  "metadata": {
    "colab": {
      "provenance": [],
      "authorship_tag": "ABX9TyO/C07GIn8Ns34jowvK49As",
      "include_colab_link": true
    },
    "kernelspec": {
      "name": "python3",
      "display_name": "Python 3"
    },
    "language_info": {
      "name": "python"
    }
  },
  "cells": [
    {
      "cell_type": "markdown",
      "metadata": {
        "id": "view-in-github",
        "colab_type": "text"
      },
      "source": [
        "<a href=\"https://colab.research.google.com/github/slapazromero/EjercicioNumpy/blob/main/Ejercicio_Numpy.ipynb\" target=\"_parent\"><img src=\"https://colab.research.google.com/assets/colab-badge.svg\" alt=\"Open In Colab\"/></a>"
      ]
    },
    {
      "cell_type": "markdown",
      "source": [
        "https://codeshare.io/piaizv"
      ],
      "metadata": {
        "id": "zEygIcH09sIH"
      }
    },
    {
      "cell_type": "code",
      "source": [
        "import numpy as np\n",
        "from PIL import Image\n",
        "from random import randint"
      ],
      "metadata": {
        "id": "lWIVEBCIlCq2"
      },
      "execution_count": 2,
      "outputs": []
    },
    {
      "cell_type": "code",
      "execution_count": 1,
      "metadata": {
        "id": "UoHqto6hBJxk"
      },
      "outputs": [],
      "source": [
        "class ImagenNumPy:\n",
        "\n",
        "  @staticmethod\n",
        "  def crear_imagen(alto = 100, ancho = 100, color = [0, 0, 0], pintar = True):\n",
        "    data = np.zeros((alto, ancho, len(color)), dtype = np.uint8)\n",
        "    data[0:alto, 0:ancho] = color\n",
        "    return ImagenNumPy._pintar_imagen(data, pintar)\n",
        "\n",
        "  @staticmethod\n",
        "  def crear_collab(elementos_h = 5, elementos_v = 3, alto = 100, ancho = 100, pintar = True):\n",
        "    for y in range(elementos_v):\n",
        "      fila = ImagenNumPy.crear_imagen(alto, ancho, (randint(0, 255), randint(0, 255), randint(0, 255)), False)\n",
        "      \n",
        "      for x in range(elementos_h - 1):\n",
        "        fila = np.hstack([fila, ImagenNumPy.crear_imagen(alto, ancho, (randint(0, 255), randint(0, 255), randint(0, 255)), False)])\n",
        "      \n",
        "      if 'data' in locals() :\n",
        "        data = np.vstack([data, fila])\n",
        "      \n",
        "      else:\n",
        "        data = np.vstack([fila,])\n",
        "    \n",
        "    return ImagenNumPy._pintar_imagen(data, pintar)\n",
        "\n",
        "  @staticmethod\n",
        "  def redimensionar_imagen(data, alto, ancho, pintar = True):\n",
        "    img = ImagenNumPy._cambiar_formato_image(data)\n",
        "    img = img.resize((ancho, alto))\n",
        "    \n",
        "    data = ImagenNumPy._cambiar_formato_np(img)\n",
        "    return ImagenNumPy._pintar_imagen(data, pintar)\n",
        "\n",
        "  @staticmethod\n",
        "  def redimensionar_imagen_ancho(data, nuevo_ancho, pintar = True):\n",
        "    img = ImagenNumPy._cambiar_formato_image(data)\n",
        "    img = ImagenNumPy.redimensionar_imagen(data, ImagenNumPy._calcular_altura(data, nuevo_ancho), nuevo_ancho)\n",
        "    \n",
        "    data = ImagenNumPy._cambiar_formato_np(img)\n",
        "    return ImagenNumPy._pintar_imagen(data, pintar)\n",
        "\n",
        "  @staticmethod\n",
        "  def redimensionar_imagen_alto(data, nuevo_alto, pintar = True):\n",
        "    img = ImagenNumPy._cambiar_formato_image(data)\n",
        "    img = ImagenNumPy.redimensionar_imagen(data, nuevo_alto, ImagenNumPy._calcular_ancho(data, nuevo_alto))\n",
        "    \n",
        "    data = ImagenNumPy._cambiar_formato_np(img)\n",
        "    return ImagenNumPy._pintar_imagen(data, pintar)\n",
        "\n",
        "  @staticmethod\n",
        "  def recortar_trozo(data, ancho, alto, coordenadas = (0, 0), pintar = True):\n",
        "    img = ImagenNumPy._cambiar_formato_image(data)\n",
        "    data = ImagenNumPy._cambiar_formato_np(data)\n",
        "    coor_x = coordenadas[0]\n",
        "    coor_y = coordenadas[1]\n",
        "\n",
        "    if coor_x >= img.width or coor_y >= img.height:\n",
        "      print('Coordenadas superiores a la imagen')\n",
        "      return ImagenNumPy._pintar_imagen(data, pintar)\n",
        "\n",
        "    elif coor_x + ancho >= img.width or coor_y + alto >= img.height:\n",
        "      data = data[coor_y : img.height, coor_x : img.width]\n",
        "      return ImagenNumPy._pintar_imagen(data, pintar)\n",
        "\n",
        "    else:\n",
        "      data = data[coor_y : coor_y + alto, coor_x : coor_x + ancho]\n",
        "      return ImagenNumPy._pintar_imagen(data, pintar)\n",
        "\n",
        "  @staticmethod\n",
        "  def _apilar_sin_deformar(data1, data2, horizontal = True):\n",
        "    pass\n",
        "\n",
        "  @staticmethod\n",
        "  def _apilar_deformar(data1, data2, horizontal = True):\n",
        "    pass\n",
        "\n",
        "\n",
        "  @staticmethod\n",
        "  def _cambiar_formato_np(data):\n",
        "    if not isinstance(data, (np.ndarray, np.generic)):\n",
        "      return np.asarray(data)\n",
        "    else:\n",
        "      return data\n",
        "\n",
        "  @staticmethod\n",
        "  def _cambiar_formato_image(data):\n",
        "    if not isinstance(data, (np.ndarray, np.generic)):\n",
        "      return data\n",
        "    else:\n",
        "      return Image.fromarray(data)\n",
        "\n",
        "  @staticmethod\n",
        "  def _pintar_imagen(data, pintar = True):\n",
        "    data = ImagenNumPy._cambiar_formato_np(data)\n",
        "    if pintar:\n",
        "      return Image.fromarray(data)\n",
        "    else:\n",
        "      return data\n",
        "\n",
        "  @staticmethod\n",
        "  def _calcular_altura(data, ancho):\n",
        "    img = Image.fromarray(data)\n",
        "    return (img.height * ancho) // img.width\n",
        "\n",
        "  @staticmethod\n",
        "  def _calcular_ancho(data, alto):\n",
        "    img = Image.fromarray(data)\n",
        "    return (img.width * alto) // img.height"
      ]
    },
    {
      "cell_type": "code",
      "source": [
        "ImagenNumPy.crear_imagen(200, 100, [145, 255, 0])"
      ],
      "metadata": {
        "id": "e5Y-1bKAxRBR"
      },
      "execution_count": null,
      "outputs": []
    },
    {
      "cell_type": "code",
      "source": [
        "ImagenNumPy.crear_collab(8, 3, 200, 100)"
      ],
      "metadata": {
        "id": "eWX3wOj3yFCo"
      },
      "execution_count": null,
      "outputs": []
    },
    {
      "cell_type": "code",
      "source": [
        "imagen = ImagenNumPy.crear_imagen(150, 300, pintar=False)\n",
        "\n",
        "ImagenNumPy.redimensionar_imagen(imagen, 300, 150)\n"
      ],
      "metadata": {
        "id": "jE6oWkKSwSIi"
      },
      "execution_count": null,
      "outputs": []
    },
    {
      "cell_type": "code",
      "source": [
        "ImagenNumPy.redimensionar_imagen_ancho(imagen, 200)"
      ],
      "metadata": {
        "id": "mc7jNlGCwST5"
      },
      "execution_count": null,
      "outputs": []
    },
    {
      "cell_type": "code",
      "source": [
        "ImagenNumPy.redimensionar_imagen_alto(imagen, 200)"
      ],
      "metadata": {
        "id": "A61b6o2MwSaw"
      },
      "execution_count": null,
      "outputs": []
    },
    {
      "cell_type": "code",
      "source": [
        "imagen = ImagenNumPy.crear_collab(8, 3, 200, 100)\n",
        "\n",
        "imagen"
      ],
      "metadata": {
        "colab": {
          "base_uri": "https://localhost:8080/",
          "height": 617
        },
        "id": "aC2H-8Dw2NCn",
        "outputId": "8fee1e5a-b14b-4c4a-c06f-ec6eaadae600"
      },
      "execution_count": 10,
      "outputs": [
        {
          "output_type": "execute_result",
          "data": {
            "text/plain": [
              "<PIL.Image.Image image mode=RGB size=800x600 at 0x7F3058545F50>"
            ],
            "image/png": "[encoded data removed]"
          },
          "metadata": {},
          "execution_count": 10
        }
      ]
    },
    {
      "cell_type": "code",
      "source": [
        "ImagenNumPy.recortar_trozo(imagen, 300, 300, (650, 500))"
      ],
      "metadata": {
        "colab": {
          "base_uri": "https://localhost:8080/",
          "height": 117
        },
        "id": "rq_NHqsG2tAZ",
        "outputId": "10a645b9-6c8d-4187-9b76-21b71852e43f"
      },
      "execution_count": 12,
      "outputs": [
        {
          "output_type": "execute_result",
          "data": {
            "text/plain": [
              "<PIL.Image.Image image mode=RGB size=150x100 at 0x7F305900A8D0>"
            ],
            "image/png": "[encoded data removed]"
          },
          "metadata": {},
          "execution_count": 12
        }
      ]
    },
    {
      "cell_type": "code",
      "source": [],
      "metadata": {
        "id": "BIpTEkig3C-Z"
      },
      "execution_count": null,
      "outputs": []
    }
  ]
}